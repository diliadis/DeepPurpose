{
 "cells": [
  {
   "cell_type": "code",
   "execution_count": 15,
   "metadata": {},
   "outputs": [],
   "source": [
    "from DeepPurpose import utils, dataset\n",
    "from sklearn.model_selection import train_test_split\n",
    "from DeepPurpose.utils import *\n",
    "\n",
    "import torch\n",
    "import numpy as np\n",
    "from AutoEncoder import AutoEncoder\n",
    "from torch.utils.data import DataLoader, Dataset\n",
    "from torch import nn\n",
    "import random\n",
    "\n",
    "from tqdm import tqdm\n",
    "\n",
    "from torch.utils.data import SequentialSampler\n",
    "from torch.utils import data as torch_data\n",
    "\n",
    "from sklearn.manifold import TSNE\n",
    "import matplotlib.pyplot as plt\n",
    "import plotly.express as px"
   ]
  },
  {
   "cell_type": "markdown",
   "metadata": {},
   "source": [
    "# Load the protein sequence features"
   ]
  },
  {
   "cell_type": "code",
   "execution_count": 2,
   "metadata": {},
   "outputs": [
    {
     "name": "stdout",
     "output_type": "stream",
     "text": [
      "Beginning Processing...\n",
      "Beginning to extract zip file...\n",
      "Default set to logspace (nM -> p) for easier regression\n",
      "Done!\n",
      "Processing the dataset...\n",
      "Drug Target Interaction Prediction Mode...\n",
      "in total: 30056 drug-target pairs\n",
      "encoding drug...\n",
      "unique drugs: 68\n",
      "encoding protein...\n",
      "unique target sequence: 379\n",
      "splitting dataset...\n",
      "Done.\n",
      "Done! \n"
     ]
    }
   ],
   "source": [
    "branch_model_to_use = 'protein'\n",
    "drug_encoding = 'MPNN'\n",
    "target_encoding = 'CNN'\n",
    "\n",
    "wandb_project_name = 'Protein_autoencoder'\n",
    "wandb_project_entity = 'diliadis'\n",
    "\n",
    "X_drugs, X_targets, y = dataset.load_process_DAVIS(path = './data', binary = False, convert_to_log = True, threshold = 30) # http://staff.cs.utu.fi/~aatapa/data/DrugTarget/\n",
    "drug_encoding, target_encoding = drug_encoding, target_encoding\n",
    "print('Processing the dataset...')\n",
    "train, _, _ = utils.data_process(X_drugs, X_targets, y, \n",
    "                            drug_encoding, target_encoding, \n",
    "                            split_method='random',frac=[0.7,0.1,0.2],\n",
    "                            random_seed = 1)\n",
    "print('Done! ')\n",
    "\n",
    "# get the feature representations of the unique drugs or proteins\n",
    "data = train.drop_duplicates('SMILES' if branch_model_to_use=='drug' else 'Target Sequence', ignore_index=True)['SMILES' if branch_model_to_use=='drug' else 'target_encoding']\n"
   ]
  },
  {
   "cell_type": "markdown",
   "metadata": {},
   "source": [
    "# Load the pretrained model"
   ]
  },
  {
   "cell_type": "code",
   "execution_count": 3,
   "metadata": {},
   "outputs": [
    {
     "name": "stdout",
     "output_type": "stream",
     "text": [
      "Using the following device: cuda:7\n",
      "Early stopping detected metric: loss\n"
     ]
    }
   ],
   "source": [
    "with open(\"results/15_11_2022__09_56_19/config.pkl\", \"rb\") as file_to_read:\n",
    "    config = pickle.load(file_to_read)\n",
    "    \n",
    "# inialize the model\n",
    "model = AutoEncoder(config)\n",
    "\n",
    "model.load_pretrained(\"results/15_11_2022__09_56_19/model.pt\", model.device)\n",
    "\n",
    "# model.train(train, val, test)"
   ]
  },
  {
   "cell_type": "code",
   "execution_count": 16,
   "metadata": {},
   "outputs": [],
   "source": [
    "def generate_embeddings(model, data, config, branch_model_to_use='protein'):\n",
    "    \n",
    "    model.model = model.model.to(model.device)\n",
    "    \n",
    "    if data is not None:\n",
    "        \n",
    "        data = data.drop_duplicates('SMILES' if branch_model_to_use=='drug' else 'Target Sequence', ignore_index=True)\n",
    "        \n",
    "        info = data_process_loader(data.index.values, data.Label.values, data, **config)\n",
    "        params = {'batch_size': config['batch_size'],\n",
    "                'shuffle': False,\n",
    "                'num_workers': config['num_workers'],\n",
    "                'drop_last': False,\n",
    "                'sampler':SequentialSampler(info)}\n",
    "\n",
    "        data_generator = torch_data.DataLoader(data_process_loader(data.index.values, data.Label.values, data, **config), **params)\n",
    "\n",
    "\n",
    "    model.model.eval()\n",
    "    scores = []\n",
    "    for i, (v_d, v_p, label) in enumerate(tqdm(data_generator)):\n",
    "        v_p = v_p.double().to(model.device)     \n",
    "        \n",
    "        score = model.model.encoder(v_p)\n",
    "        \n",
    "        for emb in score.detach().cpu().numpy():\n",
    "            scores.append(emb.flatten())\n",
    "    return scores"
   ]
  },
  {
   "cell_type": "code",
   "execution_count": 17,
   "metadata": {},
   "outputs": [
    {
     "name": "stderr",
     "output_type": "stream",
     "text": [
      "100%|██████████| 12/12 [00:00<00:00, 14.57it/s]\n"
     ]
    }
   ],
   "source": [
    "protein_embeddings = generate_embeddings(model, train, config, branch_model_to_use='protein')"
   ]
  },
  {
   "cell_type": "code",
   "execution_count": 18,
   "metadata": {},
   "outputs": [
    {
     "data": {
      "text/plain": [
       "(7960,)"
      ]
     },
     "execution_count": 18,
     "metadata": {},
     "output_type": "execute_result"
    }
   ],
   "source": [
    "protein_embeddings[0].shape"
   ]
  },
  {
   "cell_type": "code",
   "execution_count": 20,
   "metadata": {},
   "outputs": [
    {
     "name": "stdout",
     "output_type": "stream",
     "text": [
      "[t-SNE] Computing 91 nearest neighbors...\n",
      "[t-SNE] Indexed 379 samples in 0.003s...\n",
      "[t-SNE] Computed neighbors for 379 samples in 0.066s...\n",
      "[t-SNE] Computed conditional probabilities for sample 379 / 379\n",
      "[t-SNE] Mean sigma: 22.024330\n",
      "[t-SNE] KL divergence after 250 iterations with early exaggeration: 66.228439\n",
      "[t-SNE] KL divergence after 1000 iterations: 0.471736\n"
     ]
    },
    {
     "data": {
      "image/png": "[encoded data removed]",
      "text/plain": [
       "<Figure size 576x576 with 1 Axes>"
      ]
     },
     "metadata": {
      "needs_background": "light"
     },
     "output_type": "display_data"
    }
   ],
   "source": [
    "# Create a two dimensional t-SNE projection of the embeddings\n",
    "tsne_protein = TSNE(2, verbose=1)\n",
    "tsne_proj_protein = tsne_protein.fit_transform(protein_embeddings)\n",
    "# Plot those points as a scatter plot and label them based on the pred labels\n",
    "# cmap = cm.get_cmap('tab20')\n",
    "\n",
    "# num_categories = 10\n",
    "# for lab in range(num_categories):\n",
    "#     indices = test_predictions==lab\n",
    "\n",
    "fig, ax = plt.subplots(figsize=(8,8))\n",
    "ax.scatter(tsne_proj_protein[:, 0],tsne_proj_protein[:,1], alpha=0.5)\n",
    "# ax.legend(fontsize='large', markerscale=2)\n",
    "plt.show()"
   ]
  },
  {
   "cell_type": "code",
   "execution_count": null,
   "metadata": {},
   "outputs": [],
   "source": []
  }
 ],
 "metadata": {
  "kernelspec": {
   "display_name": "Python 3.8.13 ('DeepPurpose_env': conda)",
   "language": "python",
   "name": "python3"
  },
  "language_info": {
   "codemirror_mode": {
    "name": "ipython",
    "version": 3
   },
   "file_extension": ".py",
   "mimetype": "text/x-python",
   "name": "python",
   "nbconvert_exporter": "python",
   "pygments_lexer": "ipython3",
   "version": "3.8.13"
  },
  "orig_nbformat": 4,
  "vscode": {
   "interpreter": {
    "hash": "25394f763b65794906a1520a5e350de27236fec0e3f27326c170a0c4ecd2d822"
   }
  }
 },
 "nbformat": 4,
 "nbformat_minor": 2
}
